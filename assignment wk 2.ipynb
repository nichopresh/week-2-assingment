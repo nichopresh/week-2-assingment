{
 "cells": [
  {
   "cell_type": "code",
   "execution_count": 1,
   "metadata": {},
   "outputs": [
    {
     "name": "stdout",
     "output_type": "stream",
     "text": [
      "enter you age: 24\n",
      "you are eligible to vote!.\n"
     ]
    }
   ],
   "source": [
    "#prompt the user to enter their age\n",
    "user_age= input(\"enter you age: \")\n",
    "#convert the input to an integer\n",
    "age = int(user_age)\n",
    "\n",
    "#check  if the user is eligible to vote\n",
    "if age >=18:\n",
    "    print(\"you are eligible to vote!.\")\n",
    "else:\n",
    "    print(\"you are not eligible to vote\")"
   ]
  },
  {
   "cell_type": "code",
   "execution_count": 3,
   "metadata": {},
   "outputs": [
    {
     "name": "stdout",
     "output_type": "stream",
     "text": [
      "enter your guess( between 1 and 100)50\n",
      "Hint:try a higher number.\n",
      "enter your guess( between 1 and 100)70\n",
      "Hint:try a higher number.\n",
      "enter your guess( between 1 and 100)40\n",
      "congratulation! you guessed the correct number.\n"
     ]
    }
   ],
   "source": [
    "import random\n",
    "random_number = random.randint(1,100)\n",
    "while True:\n",
    "    user_guess = int(input(\"enter your guess( between 1 and 100)\"))\n",
    "    if user_guess == 40:\n",
    "        print(\"congratulation! you guessed the correct number.\")\n",
    "        break\n",
    "    elif user_guess < random_number:\n",
    "        print(\"Hint:try a higher number.\")\n",
    "    else:\n",
    "        print(\"Hint:try a lower number.\")"
   ]
  },
  {
   "cell_type": "code",
   "execution_count": null,
   "metadata": {},
   "outputs": [],
   "source": []
  }
 ],
 "metadata": {
  "kernelspec": {
   "display_name": "Python 3",
   "language": "python",
   "name": "python3"
  },
  "language_info": {
   "codemirror_mode": {
    "name": "ipython",
    "version": 3
   },
   "file_extension": ".py",
   "mimetype": "text/x-python",
   "name": "python",
   "nbconvert_exporter": "python",
   "pygments_lexer": "ipython3",
   "version": "3.7.6"
  }
 },
 "nbformat": 4,
 "nbformat_minor": 5
}
